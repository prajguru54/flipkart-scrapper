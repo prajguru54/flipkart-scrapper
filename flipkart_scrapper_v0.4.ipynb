{
 "cells": [
  {
   "cell_type": "markdown",
   "metadata": {},
   "source": [
    "### CHanges:\n",
    "1. Included functionality to collect positive, negative, helpful and recent reviews"
   ]
  },
  {
   "cell_type": "code",
   "execution_count": 37,
   "metadata": {},
   "outputs": [],
   "source": [
    "from bs4 import BeautifulSoup\n",
    "import pandas as pd\n",
    "import requests\n",
    "import time\n",
    "import re"
   ]
  },
  {
   "cell_type": "code",
   "execution_count": 38,
   "metadata": {},
   "outputs": [
    {
     "data": {
      "text/plain": [
       "<Response [200]>"
      ]
     },
     "execution_count": 38,
     "metadata": {},
     "output_type": "execute_result"
    }
   ],
   "source": [
    "flipkart_base_url = 'http://www.flipkart.com'\n",
    "user_input = input(\"Enter the smartphone name: \")\n",
    "search_string = 'site:www.flipkart.com '+ user_input + ' flipkart'\n",
    "r = requests.get('https://google.com/search?q='+search_string)\n",
    "r"
   ]
  },
  {
   "cell_type": "code",
   "execution_count": 39,
   "metadata": {},
   "outputs": [],
   "source": [
    "#Filter the links that directs to flipkart website\n",
    "def filter_link(s):\n",
    "    pattern = re.compile(r'(https://www.flipkart.com)(.*)&sa')\n",
    "    matches = pattern.finditer(s)\n",
    "    if matches:\n",
    "        for i in matches:\n",
    "            target_link = f'{i.group(1)}{i.group(2)}'\n",
    "            return target_link\n",
    "    return 'invalid'"
   ]
  },
  {
   "cell_type": "code",
   "execution_count": 40,
   "metadata": {},
   "outputs": [
    {
     "data": {
      "text/plain": [
       "['https://www.flipkart.com/poco-m3-cool-blue-64-gb/p/itmc8ec867cb0472',\n",
       " 'https://www.flipkart.com/poco-m3-yellow-128-gb/p/itm8d6c2240709b5',\n",
       " 'https://www.flipkart.com/poco-m3-cool-blue-64-gb/p/itm3bcdc32409005',\n",
       " 'https://www.flipkart.com/poco-m3-power-black-64-gb/p/itmb49cc10841be2',\n",
       " 'https://www.flipkart.com/poco-m3-yellow-64-gb/p/itmb64ed93540462']"
      ]
     },
     "execution_count": 40,
     "metadata": {},
     "output_type": "execute_result"
    }
   ],
   "source": [
    "soup = BeautifulSoup(r.content, features=\"html.parser\")\n",
    "link_tags = soup.select('a')\n",
    "all_links = []\n",
    "valid_links = []\n",
    "for i in link_tags:\n",
    "    all_links.append(i.get('href'))\n",
    "for link in all_links:\n",
    "    response = filter_link(link)\n",
    "    if  response != 'invalid':\n",
    "        valid_links.append(response)\n",
    "valid_links[:min(5, len(valid_links))]"
   ]
  },
  {
   "cell_type": "code",
   "execution_count": 41,
   "metadata": {},
   "outputs": [
    {
     "data": {
      "text/plain": [
       "['https://www.flipkart.com/poco-m3-cool-blue-64-gb/p/itmc8ec867cb0472']"
      ]
     },
     "execution_count": 41,
     "metadata": {},
     "output_type": "execute_result"
    }
   ],
   "source": [
    "product_page_absolute_url = valid_links[:1]\n",
    "product_page_absolute_url"
   ]
  },
  {
   "cell_type": "code",
   "execution_count": 42,
   "metadata": {},
   "outputs": [],
   "source": [
    "product_response = requests.get(str(product_page_absolute_url[0]))"
   ]
  },
  {
   "cell_type": "code",
   "execution_count": 43,
   "metadata": {},
   "outputs": [],
   "source": [
    "product_soup = BeautifulSoup(product_response.content)\n"
   ]
  },
  {
   "cell_type": "markdown",
   "metadata": {},
   "source": [
    "### Capture the negative reviews"
   ]
  },
  {
   "cell_type": "code",
   "execution_count": 44,
   "metadata": {},
   "outputs": [
    {
     "data": {
      "text/plain": [
       "'http://www.flipkart.com/poco-m3-cool-blue-64-gb/product-reviews/itmc8ec867cb0472?pid=MOBFZTCUDDCTDN3G&lid=LSTMOBFZTCUDDCTDN3GPBGRXL&marketplace=FLIPKART'"
      ]
     },
     "execution_count": 44,
     "metadata": {},
     "output_type": "execute_result"
    }
   ],
   "source": [
    "review_page_relative_url = product_soup.find('a', string=re.compile(r'All.*reviews')).get('href')\n",
    "review_page_absolute_url = flipkart_base_url + review_page_relative_url\n",
    "review_page_absolute_url"
   ]
  },
  {
   "cell_type": "code",
   "execution_count": 45,
   "metadata": {},
   "outputs": [],
   "source": [
    "# Generate the url of positive, negative, helpful, recent and negative review page url. \n",
    "# It ensures varities in the collected data\n",
    "negative_page_url = review_page_absolute_url.replace('&marketplace=FLIPKART', '&aid=overall&certifiedBuyer=false&sortOrder=NEGATIVE_FIRST')\n",
    "positive_page_url = review_page_absolute_url.replace('&marketplace=FLIPKART', '&aid=overall&certifiedBuyer=false&sortOrder=POSITIVE_FIRST')\n",
    "helpful_page_url = review_page_absolute_url.replace('&marketplace=FLIPKART', '&aid=overall&certifiedBuyer=false&sortOrder=MOST_HELPFUL')\n",
    "recent_page_url = review_page_absolute_url.replace('&marketplace=FLIPKART', '&aid=overall&certifiedBuyer=false&sortOrder=MOST_RECENT')"
   ]
  },
  {
   "cell_type": "code",
   "execution_count": 46,
   "metadata": {},
   "outputs": [],
   "source": [
    "# Send seperate get requests to them individually\n",
    "positive_page_response = requests.get(positive_page_url)\n",
    "negative_page_response = requests.get(negative_page_url)\n",
    "helpful_page_response = requests.get(helpful_page_url)\n",
    "recent_page_response = requests.get(recent_page_url)"
   ]
  },
  {
   "cell_type": "code",
   "execution_count": 47,
   "metadata": {},
   "outputs": [],
   "source": [
    "# Send get request to the first review page\n",
    "# review_page_response = requests.get(review_page_absolute_url)"
   ]
  },
  {
   "cell_type": "code",
   "execution_count": 48,
   "metadata": {},
   "outputs": [],
   "source": [
    "#review_page_soup = BeautifulSoup(review_page_response.content)\n",
    "\n",
    "positive_page_soup = BeautifulSoup(positive_page_response.content)\n",
    "negative_page_soup = BeautifulSoup(negative_page_response.content)\n",
    "helpful_page_soup = BeautifulSoup(helpful_page_response.content)\n",
    "recent_page_soup = BeautifulSoup(recent_page_response.content)"
   ]
  },
  {
   "cell_type": "code",
   "execution_count": 49,
   "metadata": {},
   "outputs": [],
   "source": [
    "# get links of  5 pages out of 10 available  pages that are available in one page, \n",
    "# for the remaining page links we have to got to the next page by clicking on Next button\n",
    "def get_all_review_page_links(first_page_url, soup):\n",
    "    all_links_tags = soup.findAll('a', {'class':'ge-49M'})\n",
    "    num_pages_to_collect = 5\n",
    "    review_page_links = []\n",
    "    for link in all_links_tags[:num_pages_to_collect]:\n",
    "        relative_url = link.get('href')\n",
    "        absolute_url = flipkart_base_url + relative_url     \n",
    "        review_page_links.append(absolute_url)\n",
    "    return review_page_links\n",
    "#get_all_review_page_links(negative_page_url, negative_page_soup)"
   ]
  },
  {
   "cell_type": "code",
   "execution_count": 50,
   "metadata": {},
   "outputs": [],
   "source": [
    "review_titles = []\n",
    "review_descriptions = []\n",
    "review_ratings = []"
   ]
  },
  {
   "cell_type": "code",
   "execution_count": 51,
   "metadata": {},
   "outputs": [
    {
     "data": {
      "text/html": [
       "<div>\n",
       "<style scoped>\n",
       "    .dataframe tbody tr th:only-of-type {\n",
       "        vertical-align: middle;\n",
       "    }\n",
       "\n",
       "    .dataframe tbody tr th {\n",
       "        vertical-align: top;\n",
       "    }\n",
       "\n",
       "    .dataframe thead th {\n",
       "        text-align: right;\n",
       "    }\n",
       "</style>\n",
       "<table border=\"1\" class=\"dataframe\">\n",
       "  <thead>\n",
       "    <tr style=\"text-align: right;\">\n",
       "      <th></th>\n",
       "      <th>review_title</th>\n",
       "      <th>review_description</th>\n",
       "      <th>rating</th>\n",
       "    </tr>\n",
       "  </thead>\n",
       "  <tbody>\n",
       "  </tbody>\n",
       "</table>\n",
       "</div>"
      ],
      "text/plain": [
       "Empty DataFrame\n",
       "Columns: [review_title, review_description, rating]\n",
       "Index: []"
      ]
     },
     "execution_count": 51,
     "metadata": {},
     "output_type": "execute_result"
    }
   ],
   "source": [
    "reviews_df = pd.DataFrame(columns = ['review_title', 'review_description', 'rating'])\n",
    "reviews_df.head()"
   ]
  },
  {
   "cell_type": "code",
   "execution_count": 52,
   "metadata": {},
   "outputs": [],
   "source": [
    "#get the review titles for the page\n",
    "def get_review_titles(soup):\n",
    "    titles_tags = soup.findAll('p', {'class':'_2-N8zT'})\n",
    "    for t in titles_tags:\n",
    "        review_titles.append(t.text)\n",
    "    return review_titles\n",
    "#get_review_titles(review_page_soup)"
   ]
  },
  {
   "cell_type": "code",
   "execution_count": 53,
   "metadata": {},
   "outputs": [],
   "source": [
    "#get the review descriptions for the page\n",
    "def get_review_descriptions(soup):\n",
    "    review_descriptions_tags = soup.findAll('div', {'class':'t-ZTKy'})\n",
    "    for t in review_descriptions_tags:\n",
    "        review_descriptions.append(t.get_text().replace('READ MORE', ''))\n",
    "    return review_descriptions\n",
    "#get_review_descriptions(review_page_soup)"
   ]
  },
  {
   "cell_type": "code",
   "execution_count": 54,
   "metadata": {},
   "outputs": [],
   "source": [
    "#get the ratings for the page\n",
    "def get_review_ratings(soup):\n",
    "    \n",
    "    review_ratings_tags = soup.findAll('div', {'class':['_3LWZlK _1rdVr6 _1BLPMq', '_3LWZlK _1BLPMq', '_3LWZlK _32lA32 _1BLPMq']})\n",
    "    for t in review_ratings_tags:\n",
    "        review_ratings.append(int(t.text.strip()))\n",
    "    return review_ratings      \n",
    "#get_review_ratings(review_page_soup)    "
   ]
  },
  {
   "cell_type": "code",
   "execution_count": 55,
   "metadata": {},
   "outputs": [],
   "source": [
    "#Fetching only first 5 pages, roughly 50 reviews\n",
    "def collect_data(url, soup):\n",
    "    review_page_absolute_url = url\n",
    "    for link in get_all_review_page_links(review_page_absolute_url, soup):\n",
    "        review_page_response = requests.get(link)\n",
    "        review_page_soup = BeautifulSoup(review_page_response.content)\n",
    "        review_titles = get_review_titles(review_page_soup)\n",
    "        review_descriptions = get_review_descriptions(review_page_soup)\n",
    "        review_ratings = get_review_ratings(review_page_soup)\n",
    "#collect_data(negative_page_url, negative_page_soup)"
   ]
  },
  {
   "cell_type": "code",
   "execution_count": 56,
   "metadata": {},
   "outputs": [
    {
     "data": {
      "text/plain": [
       "(0, 0, 0)"
      ]
     },
     "execution_count": 56,
     "metadata": {},
     "output_type": "execute_result"
    }
   ],
   "source": [
    "len(review_ratings), len(review_descriptions), len(review_titles)"
   ]
  },
  {
   "cell_type": "code",
   "execution_count": 57,
   "metadata": {},
   "outputs": [],
   "source": [
    "#Collect the positive reviews\n",
    "collect_data(positive_page_url, positive_page_soup)\n",
    "temp_df = pd.DataFrame({'review_title':review_titles, 'review_description':review_descriptions, 'rating':review_ratings})\n",
    "reviews_df = pd.concat([reviews_df, temp_df], axis=0)\n",
    "time.sleep(3)\n",
    "\n",
    "#Collect the negative reviews\n",
    "collect_data(negative_page_url, negative_page_soup)\n",
    "temp_df = pd.DataFrame({'review_title':review_titles, 'review_description':review_descriptions, 'rating':review_ratings})\n",
    "reviews_df = pd.concat([reviews_df, temp_df], axis=0)\n",
    "time.sleep(4)\n",
    "\n",
    "#Collect the helpful reviews\n",
    "collect_data(helpful_page_url, helpful_page_soup)\n",
    "temp_df = pd.DataFrame({'review_title':review_titles, 'review_description':review_descriptions, 'rating':review_ratings})\n",
    "reviews_df = pd.concat([reviews_df, temp_df], axis=0)\n",
    "time.sleep(3)\n",
    "\n",
    "#Collect the recent reviews\n",
    "collect_data(recent_page_url, recent_page_soup)\n",
    "temp_df = pd.DataFrame({'review_title':review_titles, 'review_description':review_descriptions, 'rating':review_ratings})\n",
    "reviews_df = pd.concat([reviews_df, temp_df], axis=0)"
   ]
  },
  {
   "cell_type": "code",
   "execution_count": 58,
   "metadata": {},
   "outputs": [
    {
     "data": {
      "text/plain": [
       "(500, 3)"
      ]
     },
     "execution_count": 58,
     "metadata": {},
     "output_type": "execute_result"
    }
   ],
   "source": [
    "reviews_df.shape"
   ]
  },
  {
   "cell_type": "code",
   "execution_count": 59,
   "metadata": {},
   "outputs": [],
   "source": [
    "reviews_df.to_csv(f'Reviews/flipkart_reviews_{user_input}.csv', index=False)"
   ]
  },
  {
   "cell_type": "code",
   "execution_count": 60,
   "metadata": {},
   "outputs": [
    {
     "data": {
      "text/html": [
       "<div>\n",
       "<style scoped>\n",
       "    .dataframe tbody tr th:only-of-type {\n",
       "        vertical-align: middle;\n",
       "    }\n",
       "\n",
       "    .dataframe tbody tr th {\n",
       "        vertical-align: top;\n",
       "    }\n",
       "\n",
       "    .dataframe thead th {\n",
       "        text-align: right;\n",
       "    }\n",
       "</style>\n",
       "<table border=\"1\" class=\"dataframe\">\n",
       "  <thead>\n",
       "    <tr style=\"text-align: right;\">\n",
       "      <th></th>\n",
       "      <th>review_title</th>\n",
       "      <th>review_description</th>\n",
       "      <th>rating</th>\n",
       "    </tr>\n",
       "  </thead>\n",
       "  <tbody>\n",
       "    <tr>\n",
       "      <th>0</th>\n",
       "      <td>Wonderful</td>\n",
       "      <td>Good phone battery🔋 And camera This price poin...</td>\n",
       "      <td>5</td>\n",
       "    </tr>\n",
       "    <tr>\n",
       "      <th>1</th>\n",
       "      <td>Terrific</td>\n",
       "      <td>One word review \" Value for Money\"It has the p...</td>\n",
       "      <td>5</td>\n",
       "    </tr>\n",
       "    <tr>\n",
       "      <th>2</th>\n",
       "      <td>Simply awesome</td>\n",
       "      <td>Mobile is good... I bought the yellow one... F...</td>\n",
       "      <td>5</td>\n",
       "    </tr>\n",
       "    <tr>\n",
       "      <th>3</th>\n",
       "      <td>Mind-blowing purchase</td>\n",
       "      <td>Thank You Poco for manufacturing this Phone......</td>\n",
       "      <td>5</td>\n",
       "    </tr>\n",
       "    <tr>\n",
       "      <th>4</th>\n",
       "      <td>Awesome</td>\n",
       "      <td>I am writing this review after using this mobi...</td>\n",
       "      <td>5</td>\n",
       "    </tr>\n",
       "  </tbody>\n",
       "</table>\n",
       "</div>"
      ],
      "text/plain": [
       "            review_title                                 review_description  \\\n",
       "0              Wonderful  Good phone battery🔋 And camera This price poin...   \n",
       "1               Terrific  One word review \" Value for Money\"It has the p...   \n",
       "2         Simply awesome  Mobile is good... I bought the yellow one... F...   \n",
       "3  Mind-blowing purchase  Thank You Poco for manufacturing this Phone......   \n",
       "4                Awesome  I am writing this review after using this mobi...   \n",
       "\n",
       "   rating  \n",
       "0       5  \n",
       "1       5  \n",
       "2       5  \n",
       "3       5  \n",
       "4       5  "
      ]
     },
     "execution_count": 60,
     "metadata": {},
     "output_type": "execute_result"
    }
   ],
   "source": [
    "test = pd.read_csv(f'Reviews/flipkart_reviews_{user_input}.csv')\n",
    "test.head()"
   ]
  },
  {
   "cell_type": "code",
   "execution_count": 61,
   "metadata": {},
   "outputs": [
    {
     "data": {
      "text/plain": [
       "(500, 3)"
      ]
     },
     "execution_count": 61,
     "metadata": {},
     "output_type": "execute_result"
    }
   ],
   "source": [
    "test.shape"
   ]
  },
  {
   "cell_type": "code",
   "execution_count": null,
   "metadata": {},
   "outputs": [],
   "source": []
  }
 ],
 "metadata": {
  "interpreter": {
   "hash": "183e9f407954184f09b7d1c95cfce059d344f4df1be83e378105a981e0a5d5fc"
  },
  "kernelspec": {
   "display_name": "Python 3 (ipykernel)",
   "language": "python",
   "name": "python3"
  },
  "language_info": {
   "codemirror_mode": {
    "name": "ipython",
    "version": 3
   },
   "file_extension": ".py",
   "mimetype": "text/x-python",
   "name": "python",
   "nbconvert_exporter": "python",
   "pygments_lexer": "ipython3",
   "version": "3.9.7"
  }
 },
 "nbformat": 4,
 "nbformat_minor": 4
}
